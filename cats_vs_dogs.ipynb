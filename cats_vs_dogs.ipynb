{
 "cells": [
  {
   "cell_type": "code",
   "execution_count": 4,
   "metadata": {},
   "outputs": [
    {
     "name": "stdout",
     "output_type": "stream",
     "text": [
      "<class 'torchvision.datasets.folder.ImageFolder'>\n",
      "['Cat', 'Dog']\n",
      "{'Cat': 0, 'Dog': 1}\n"
     ]
    }
   ],
   "source": [
    "from pathlib import Path\n",
    "import torch\n",
    "from torch import nn\n",
    "import matplotlib.pyplot as plt\n",
    "from torchvision.datasets import ImageFolder\n",
    "from torchvision import transforms\n",
    "\n",
    "\n",
    "device = 'cuda' if torch.cuda.is_available() else 'cpu'\n",
    "\n",
    "data_root = Path('data')\n",
    "data_transform = transforms.Compose([\n",
    "    transforms.Resize((64, 64)),\n",
    "    transforms.ToTensor()\n",
    "])\n",
    "\n",
    "data = ImageFolder(data_root, transform=data_transform)\n",
    "print(type(data))\n",
    "print(data.classes)\n",
    "print(data.class_to_idx)\n",
    "\n",
    "\n",
    "train_dataset, test_dataset = torch.utils.data.random_split(data, [0.8, 0.2])\n"
   ]
  },
  {
   "cell_type": "code",
   "execution_count": 169,
   "metadata": {},
   "outputs": [],
   "source": [
    "class tinyVGG(nn.Module):\n",
    "    def __init__(self, in_shape, hidden_units, out_shape):\n",
    "        super().__init__()\n",
    "        self.first_conv = nn.Sequential(\n",
    "            nn.Conv2d(in_channels=in_shape, \n",
    "                      out_channels=hidden_units,\n",
    "                      kernel_size=3,\n",
    "                      stride=1),\n",
    "            nn.ReLU()\n",
    "        )\n",
    "        self.second_conv = nn.Sequential(\n",
    "            nn.Conv2d(in_channels=hidden_units,\n",
    "                      out_channels=hidden_units,\n",
    "                      kernel_size=3,\n",
    "                      stride=1),\n",
    "            nn.ReLU(),\n",
    "            nn.MaxPool2d(kernel_size=2)\n",
    "        )\n",
    "        self.third_conv = nn.Sequential(\n",
    "            nn.Conv2d(in_channels=hidden_units,\n",
    "                      out_channels=hidden_units,\n",
    "                      kernel_size=3,\n",
    "                      stride=1),\n",
    "            nn.ReLU(),\n",
    "            nn.Conv2d(in_channels=hidden_units,\n",
    "                      out_channels=hidden_units,\n",
    "                      kernel_size=3,\n",
    "                      stride=1),\n",
    "            nn.ReLU(),\n",
    "            nn.MaxPool2d(kernel_size=2)\n",
    "        )\n",
    "        self.classifier = nn.Sequential(\n",
    "            nn.Flatten(),\n",
    "            nn.Linear(in_features=13 * 13 * hidden_units, \n",
    "                      out_features=out_shape)\n",
    "        )\n",
    "\n",
    "    def forward(self, x):\n",
    "        return self.classifier((self.third_conv(self.second_conv(self.first_conv(x)))))"
   ]
  },
  {
   "cell_type": "code",
   "execution_count": 170,
   "metadata": {},
   "outputs": [
    {
     "data": {
      "text/plain": [
       "=================================================================\n",
       "Layer (type:depth-idx)                   Param #\n",
       "=================================================================\n",
       "tinyVGG                                  --\n",
       "├─Sequential: 1-1                        --\n",
       "│    └─Conv2d: 2-1                       280\n",
       "│    └─ReLU: 2-2                         --\n",
       "├─Sequential: 1-2                        --\n",
       "│    └─Conv2d: 2-3                       910\n",
       "│    └─ReLU: 2-4                         --\n",
       "│    └─MaxPool2d: 2-5                    --\n",
       "├─Sequential: 1-3                        --\n",
       "│    └─Conv2d: 2-6                       910\n",
       "│    └─ReLU: 2-7                         --\n",
       "│    └─Conv2d: 2-8                       910\n",
       "│    └─ReLU: 2-9                         --\n",
       "│    └─MaxPool2d: 2-10                   --\n",
       "├─Sequential: 1-4                        --\n",
       "│    └─Flatten: 2-11                     --\n",
       "│    └─Linear: 2-12                      1,691\n",
       "=================================================================\n",
       "Total params: 4,701\n",
       "Trainable params: 4,701\n",
       "Non-trainable params: 0\n",
       "================================================================="
      ]
     },
     "execution_count": 170,
     "metadata": {},
     "output_type": "execute_result"
    }
   ],
   "source": [
    "from torch.utils.data.dataloader import DataLoader\n",
    "\n",
    "from torchinfo import summary\n",
    "\n",
    "model = tinyVGG(3, 10, 1).to(device)\n",
    "\n",
    "train_dataloader = DataLoader(train_dataset, 1, True)\n",
    "test_dataloader = DataLoader(test_dataset, 1, False)\n",
    "\n",
    "\n",
    "loss_fn = nn.BCEWithLogitsLoss()\n",
    "optimizer = torch.optim.Adam(params=model.parameters(), lr=0.0001)\n",
    "summary(model)\n",
    "\n"
   ]
  },
  {
   "cell_type": "code",
   "execution_count": 171,
   "metadata": {},
   "outputs": [
    {
     "name": "stderr",
     "output_type": "stream",
     "text": [
      "  0%|          | 0/20 [00:00<?, ?it/s]C:\\Users\\пк\\AppData\\Local\\Packages\\PythonSoftwareFoundation.Python.3.11_qbz5n2kfra8p0\\LocalCache\\local-packages\\Python311\\site-packages\\PIL\\TiffImagePlugin.py:868: UserWarning: Truncated File Read\n",
      "  warnings.warn(str(msg))\n",
      "100%|██████████| 20/20 [23:52<00:00, 71.64s/it]\n"
     ]
    }
   ],
   "source": [
    "import tqdm\n",
    "\n",
    "model.train()\n",
    "for epoch in tqdm.tqdm(range(20)):\n",
    "    for n, (X, y) in enumerate(train_dataloader):\n",
    "        X = X.to(device)\n",
    "        y = torch.Tensor(y).to(device).type(torch.float32)\n",
    "        pred_logits = model(X).squeeze(dim=0)\n",
    "\n",
    "        loss = loss_fn(pred_logits, y)\n",
    "        optimizer.zero_grad()\n",
    "        loss.backward()\n",
    "        optimizer.step()"
   ]
  },
  {
   "cell_type": "code",
   "execution_count": 173,
   "metadata": {},
   "outputs": [
    {
     "name": "stdout",
     "output_type": "stream",
     "text": [
      "798.0\n"
     ]
    }
   ],
   "source": [
    "model.eval()\n",
    "with torch.inference_mode():\n",
    "    train_acc = 0\n",
    "    for n, (X, y) in enumerate(test_dataloader):\n",
    "        X = X.to(device)\n",
    "        y = torch.Tensor(y).to(device).type(torch.float32)\n",
    "        pred_logits = model(X)\n",
    "        pred_class = torch.round(torch.sigmoid(pred_logits))\n",
    "        train_acc += (pred_class==y).sum().item()/len(pred_logits)\n",
    "        if n == 1000:\n",
    "            break\n",
    "    print(train_acc)"
   ]
  },
  {
   "cell_type": "code",
   "execution_count": 167,
   "metadata": {},
   "outputs": [],
   "source": [
    "from pathlib import Path\n",
    "\n",
    "models_path = Path('models')\n",
    "\n",
    "model_name = '79acc.pth'\n",
    "\n",
    "model_path = models_path / model_name\n",
    "torch.save(obj=model.state_dict(), f=model_path)"
   ]
  }
 ],
 "metadata": {
  "kernelspec": {
   "display_name": "Python 3",
   "language": "python",
   "name": "python3"
  },
  "language_info": {
   "codemirror_mode": {
    "name": "ipython",
    "version": 3
   },
   "file_extension": ".py",
   "mimetype": "text/x-python",
   "name": "python",
   "nbconvert_exporter": "python",
   "pygments_lexer": "ipython3",
   "version": "3.11.3"
  }
 },
 "nbformat": 4,
 "nbformat_minor": 2
}
